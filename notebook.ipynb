{
 "cells": [
  {
   "cell_type": "code",
   "execution_count": 1,
   "metadata": {
    "ExecuteTime": {
     "end_time": "2020-09-19T08:04:31.954976Z",
     "start_time": "2020-09-19T08:04:31.470656Z"
    }
   },
   "outputs": [],
   "source": [
    "import os \n",
    "import pandas as pd\n",
    "import matplotlib.pyplot as plt\n",
    "import numpy as np"
   ]
  },
  {
   "cell_type": "code",
   "execution_count": 2,
   "metadata": {
    "ExecuteTime": {
     "end_time": "2020-09-19T08:04:32.072899Z",
     "start_time": "2020-09-19T08:04:31.957669Z"
    }
   },
   "outputs": [
    {
     "name": "stdout",
     "output_type": "stream",
     "text": [
      "\u001b[0m\u001b[01;34mcmake-build-debug\u001b[0m/  DataFrame.h  KmeansOpenMP.cpp  SaveToCSV.cpp\r\n",
      "CMakeLists.txt      \u001b[01;34mdataset\u001b[0m/     KmeansOpenMP.h    SaveToCSV.h\r\n",
      "DataFrame.cpp       \u001b[01;32mkmeans\u001b[0m*      \u001b[01;34mresult\u001b[0m/           Untitled.ipynb\r\n"
     ]
    }
   ],
   "source": [
    "%ls"
   ]
  },
  {
   "cell_type": "code",
   "execution_count": 3,
   "metadata": {
    "ExecuteTime": {
     "end_time": "2020-09-19T08:04:32.078827Z",
     "start_time": "2020-09-19T08:04:32.075615Z"
    }
   },
   "outputs": [],
   "source": [
    "path = %pwd"
   ]
  },
  {
   "cell_type": "code",
   "execution_count": 4,
   "metadata": {
    "ExecuteTime": {
     "end_time": "2020-09-19T08:04:32.088157Z",
     "start_time": "2020-09-19T08:04:32.081206Z"
    }
   },
   "outputs": [],
   "source": [
    "path +=  \"/result/resultDatasetNew2_4.csv\""
   ]
  },
  {
   "cell_type": "code",
   "execution_count": 5,
   "metadata": {
    "ExecuteTime": {
     "end_time": "2020-09-19T08:04:32.098940Z",
     "start_time": "2020-09-19T08:04:32.090489Z"
    }
   },
   "outputs": [],
   "source": [
    "df = pd.read_csv(path)"
   ]
  },
  {
   "cell_type": "code",
   "execution_count": 6,
   "metadata": {
    "ExecuteTime": {
     "end_time": "2020-09-19T08:04:32.119586Z",
     "start_time": "2020-09-19T08:04:32.100563Z"
    }
   },
   "outputs": [
    {
     "data": {
      "text/html": [
       "<div>\n",
       "<style scoped>\n",
       "    .dataframe tbody tr th:only-of-type {\n",
       "        vertical-align: middle;\n",
       "    }\n",
       "\n",
       "    .dataframe tbody tr th {\n",
       "        vertical-align: top;\n",
       "    }\n",
       "\n",
       "    .dataframe thead th {\n",
       "        text-align: right;\n",
       "    }\n",
       "</style>\n",
       "<table border=\"1\" class=\"dataframe\">\n",
       "  <thead>\n",
       "    <tr style=\"text-align: right;\">\n",
       "      <th></th>\n",
       "      <th>Number_of_threads</th>\n",
       "      <th>Sequential_time</th>\n",
       "      <th>Parallel_time</th>\n",
       "      <th>Speed_up</th>\n",
       "    </tr>\n",
       "  </thead>\n",
       "  <tbody>\n",
       "    <tr>\n",
       "      <th>0</th>\n",
       "      <td>1</td>\n",
       "      <td>284.384</td>\n",
       "      <td>284.3840</td>\n",
       "      <td>1.00000</td>\n",
       "    </tr>\n",
       "    <tr>\n",
       "      <th>1</th>\n",
       "      <td>2</td>\n",
       "      <td>284.384</td>\n",
       "      <td>148.2310</td>\n",
       "      <td>1.91851</td>\n",
       "    </tr>\n",
       "    <tr>\n",
       "      <th>2</th>\n",
       "      <td>3</td>\n",
       "      <td>284.384</td>\n",
       "      <td>101.0810</td>\n",
       "      <td>2.81343</td>\n",
       "    </tr>\n",
       "    <tr>\n",
       "      <th>3</th>\n",
       "      <td>4</td>\n",
       "      <td>284.384</td>\n",
       "      <td>78.5737</td>\n",
       "      <td>3.61933</td>\n",
       "    </tr>\n",
       "    <tr>\n",
       "      <th>4</th>\n",
       "      <td>5</td>\n",
       "      <td>284.384</td>\n",
       "      <td>64.6939</td>\n",
       "      <td>4.39583</td>\n",
       "    </tr>\n",
       "    <tr>\n",
       "      <th>5</th>\n",
       "      <td>6</td>\n",
       "      <td>284.384</td>\n",
       "      <td>56.7344</td>\n",
       "      <td>5.01254</td>\n",
       "    </tr>\n",
       "    <tr>\n",
       "      <th>6</th>\n",
       "      <td>7</td>\n",
       "      <td>284.384</td>\n",
       "      <td>63.7382</td>\n",
       "      <td>4.46174</td>\n",
       "    </tr>\n",
       "    <tr>\n",
       "      <th>7</th>\n",
       "      <td>8</td>\n",
       "      <td>284.384</td>\n",
       "      <td>58.3690</td>\n",
       "      <td>4.87217</td>\n",
       "    </tr>\n",
       "    <tr>\n",
       "      <th>8</th>\n",
       "      <td>9</td>\n",
       "      <td>284.384</td>\n",
       "      <td>52.9906</td>\n",
       "      <td>5.36668</td>\n",
       "    </tr>\n",
       "    <tr>\n",
       "      <th>9</th>\n",
       "      <td>10</td>\n",
       "      <td>284.384</td>\n",
       "      <td>51.4024</td>\n",
       "      <td>5.53250</td>\n",
       "    </tr>\n",
       "    <tr>\n",
       "      <th>10</th>\n",
       "      <td>11</td>\n",
       "      <td>284.384</td>\n",
       "      <td>48.9542</td>\n",
       "      <td>5.80918</td>\n",
       "    </tr>\n",
       "    <tr>\n",
       "      <th>11</th>\n",
       "      <td>12</td>\n",
       "      <td>284.384</td>\n",
       "      <td>45.6898</td>\n",
       "      <td>6.22423</td>\n",
       "    </tr>\n",
       "  </tbody>\n",
       "</table>\n",
       "</div>"
      ],
      "text/plain": [
       "    Number_of_threads  Sequential_time  Parallel_time  Speed_up\n",
       "0                   1          284.384       284.3840   1.00000\n",
       "1                   2          284.384       148.2310   1.91851\n",
       "2                   3          284.384       101.0810   2.81343\n",
       "3                   4          284.384        78.5737   3.61933\n",
       "4                   5          284.384        64.6939   4.39583\n",
       "5                   6          284.384        56.7344   5.01254\n",
       "6                   7          284.384        63.7382   4.46174\n",
       "7                   8          284.384        58.3690   4.87217\n",
       "8                   9          284.384        52.9906   5.36668\n",
       "9                  10          284.384        51.4024   5.53250\n",
       "10                 11          284.384        48.9542   5.80918\n",
       "11                 12          284.384        45.6898   6.22423"
      ]
     },
     "execution_count": 6,
     "metadata": {},
     "output_type": "execute_result"
    }
   ],
   "source": [
    "df"
   ]
  },
  {
   "cell_type": "code",
   "execution_count": 11,
   "metadata": {
    "ExecuteTime": {
     "end_time": "2020-09-19T08:07:47.970608Z",
     "start_time": "2020-09-19T08:07:47.966873Z"
    }
   },
   "outputs": [],
   "source": [
    "pathPlot = %pwd\n",
    "pathPlot += '/plot/'"
   ]
  },
  {
   "cell_type": "code",
   "execution_count": 12,
   "metadata": {
    "ExecuteTime": {
     "end_time": "2020-09-19T08:08:02.911747Z",
     "start_time": "2020-09-19T08:08:02.655696Z"
    }
   },
   "outputs": [
    {
     "data": {
      "image/png": "[encoded data removed]",
      "text/plain": [
       "<Figure size 432x288 with 1 Axes>"
      ]
     },
     "metadata": {
      "needs_background": "light"
     },
     "output_type": "display_data"
    }
   ],
   "source": [
    "plt.grid()\n",
    "plt.plot(df.Number_of_threads, df.Speed_up, '-s', color = \"red\", label = \"speed-UP\")\n",
    "plt.plot(np.arange(12), np.arange(12), '-s', color = \"green\", label = \"speed-up linear\")\n",
    "plt.title(\"SpeedUP K-means Openmp\", fontsize = 18)\n",
    "plt.ylabel(\"SpeedUp\", fontsize = 14)\n",
    "plt.xlabel(\"Numero threads\", fontsize = 14)\n",
    "plt.legend()\n",
    "plt.savefig(pathPlot+\"speedUp.png\")"
   ]
  },
  {
   "cell_type": "code",
   "execution_count": null,
   "metadata": {},
   "outputs": [],
   "source": []
  }
 ],
 "metadata": {
  "kernelspec": {
   "display_name": "Python 3",
   "language": "python",
   "name": "python3"
  },
  "language_info": {
   "codemirror_mode": {
    "name": "ipython",
    "version": 3
   },
   "file_extension": ".py",
   "mimetype": "text/x-python",
   "name": "python",
   "nbconvert_exporter": "python",
   "pygments_lexer": "ipython3",
   "version": "3.8.2"
  },
  "varInspector": {
   "cols": {
    "lenName": 16,
    "lenType": 16,
    "lenVar": 40
   },
   "kernels_config": {
    "python": {
     "delete_cmd_postfix": "",
     "delete_cmd_prefix": "del ",
     "library": "var_list.py",
     "varRefreshCmd": "print(var_dic_list())"
    },
    "r": {
     "delete_cmd_postfix": ") ",
     "delete_cmd_prefix": "rm(",
     "library": "var_list.r",
     "varRefreshCmd": "cat(var_dic_list()) "
    }
   },
   "types_to_exclude": [
    "module",
    "function",
    "builtin_function_or_method",
    "instance",
    "_Feature"
   ],
   "window_display": false
  }
 },
 "nbformat": 4,
 "nbformat_minor": 4
}
